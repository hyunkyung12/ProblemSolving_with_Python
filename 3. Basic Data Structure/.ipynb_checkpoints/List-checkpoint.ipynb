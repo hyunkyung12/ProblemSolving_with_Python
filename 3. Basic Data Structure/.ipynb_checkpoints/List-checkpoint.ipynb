{
 "cells": [
  {
   "cell_type": "markdown",
   "metadata": {},
   "source": [
    "리스트는 파이썬의 기본 자료구조로 제공이 되므로 구현은 생략합니다."
   ]
  },
  {
   "cell_type": "markdown",
   "metadata": {},
   "source": [
    "### Linked List 구현하기 - 단방향 Unordered"
   ]
  },
  {
   "cell_type": "code",
   "execution_count": 8,
   "metadata": {
    "collapsed": true
   },
   "outputs": [],
   "source": [
    "class Node:\n",
    "    def __init__(self, data):\n",
    "        self.data = data\n",
    "        self.nextNode = None\n",
    "        \n",
    "    def getData(self):\n",
    "        return self.data\n",
    "    \n",
    "    def getNext(self):\n",
    "        return self.nextNode\n",
    "    \n",
    "    def setData(self, newData):\n",
    "        self.data = newData\n",
    "        \n",
    "    def setNext(self, newNext):\n",
    "        self.nextNode = newNext"
   ]
  },
  {
   "cell_type": "code",
   "execution_count": 42,
   "metadata": {
    "collapsed": false
   },
   "outputs": [],
   "source": [
    "class UnorderedList:\n",
    "    \n",
    "    def __init__(self):\n",
    "        self.head = None\n",
    "        \n",
    "    def isEmpty(self):\n",
    "        return self.head == None\n",
    "    \n",
    "    def add(self, item):\n",
    "        temp = Node(item)\n",
    "        temp.setNext(self.head)\n",
    "        self.head = temp\n",
    "    \n",
    "    def remove(self, item):\n",
    "        temp = self.head\n",
    "        prev = None\n",
    "        \n",
    "        while temp != None:\n",
    "            if temp.getData() == item:\n",
    "                break\n",
    "            else:\n",
    "                prev = temp\n",
    "                temp = temp.getNext()\n",
    "\n",
    "        prev.setNext(temp.getNext()) \n",
    "    \n",
    "    def size(self):\n",
    "        temp = self.head\n",
    "        count = 0\n",
    "        while temp != None:\n",
    "            count = count + 1\n",
    "            temp = temp.getNext()\n",
    "        return count\n",
    "    \n",
    "    def search(self, item):\n",
    "        temp = self.head\n",
    "        result = False\n",
    "        \n",
    "        while temp != None:\n",
    "            if temp.getData() == item:\n",
    "                result = True\n",
    "                break\n",
    "            else:\n",
    "                temp = temp.getNext()\n",
    "        \n",
    "        return result"
   ]
  },
  {
   "cell_type": "code",
   "execution_count": 43,
   "metadata": {
    "collapsed": false
   },
   "outputs": [
    {
     "name": "stdout",
     "output_type": "stream",
     "text": [
      "6\n",
      "True\n",
      "False\n",
      "True\n",
      "7\n",
      "6\n",
      "5\n",
      "4\n",
      "False\n"
     ]
    }
   ],
   "source": [
    "mylist = UnorderedList()\n",
    "\n",
    "mylist.add(31)\n",
    "mylist.add(77)\n",
    "mylist.add(17)\n",
    "mylist.add(93)\n",
    "mylist.add(26)\n",
    "mylist.add(54)\n",
    "\n",
    "print(mylist.size())\n",
    "print(mylist.search(93))\n",
    "print(mylist.search(100))\n",
    "\n",
    "mylist.add(100)\n",
    "print(mylist.search(100))\n",
    "print(mylist.size())\n",
    "\n",
    "mylist.remove(54)\n",
    "print(mylist.size())\n",
    "mylist.remove(93)\n",
    "print(mylist.size())\n",
    "mylist.remove(31)\n",
    "print(mylist.size())\n",
    "print(mylist.search(93))\n"
   ]
  },
  {
   "cell_type": "markdown",
   "metadata": {},
   "source": [
    "### Linked List 구현하기 - 단방향 Ordered\n",
    "\n",
    "Ordered list 는 add 와 search 과정에서 Unordered 과 차이가 있습니다.\n",
    "\n",
    "search의 경우 현재노드의 값이 내가 찾고자 하는 값보다 큰 경우, 뒤로 가도 찾는 값이 없으므로 종료합니다.\n",
    "\n",
    "add의 경우 맨 앞이 아닌 순서가 맞는 곳에 삽입해주어야 합니다."
   ]
  },
  {
   "cell_type": "code",
   "execution_count": 46,
   "metadata": {
    "collapsed": true
   },
   "outputs": [],
   "source": [
    "class OrderedList:\n",
    "    \n",
    "    def __init__(self):\n",
    "        self.head = None\n",
    "        \n",
    "    def isEmpty(self):\n",
    "        return self.head == None\n",
    "    \n",
    "    def remove(self, item):\n",
    "        temp = self.head\n",
    "        prev = None\n",
    "        \n",
    "        while temp != None:\n",
    "            if temp.getData() == item:\n",
    "                break\n",
    "            else:\n",
    "                prev = temp\n",
    "                temp = temp.getNext()\n",
    "\n",
    "        prev.setNext(temp.getNext()) \n",
    "    \n",
    "    def size(self):\n",
    "        temp = self.head\n",
    "        count = 0\n",
    "        while temp != None:\n",
    "            count = count + 1\n",
    "            temp = temp.getNext()\n",
    "        return count\n",
    "    \n",
    "    def add(self, item):\n",
    "        temp = self.head\n",
    "        prev = None\n",
    "        \n",
    "        while temp != None:\n",
    "            if temp.getData() > item:\n",
    "                break\n",
    "            else:\n",
    "                prev = temp\n",
    "                temp = temp.getNext()\n",
    "     \n",
    "        new = Node(item)\n",
    "        \n",
    "        if prev == None:\n",
    "            new.setNext(temp)\n",
    "            self.head = new\n",
    "        else:\n",
    "            prev.setNext(new)\n",
    "            new.setNext(temp)\n",
    "        \n",
    "    def search(self, item):\n",
    "        temp = self.head\n",
    "        result = False\n",
    "        \n",
    "        while temp != None:\n",
    "            if temp.getData() == item:\n",
    "                result = True\n",
    "                break\n",
    "            elif temp.getData() > item:\n",
    "                break\n",
    "            else:\n",
    "                temp = temp.getNext()\n",
    "        \n",
    "        return result"
   ]
  },
  {
   "cell_type": "code",
   "execution_count": 47,
   "metadata": {
    "collapsed": false
   },
   "outputs": [
    {
     "name": "stdout",
     "output_type": "stream",
     "text": [
      "6\n",
      "True\n",
      "False\n"
     ]
    }
   ],
   "source": [
    "mylist = OrderedList()\n",
    "mylist.add(31)\n",
    "mylist.add(77)\n",
    "mylist.add(17)\n",
    "mylist.add(93)\n",
    "mylist.add(26)\n",
    "mylist.add(54)\n",
    "\n",
    "print(mylist.size())\n",
    "print(mylist.search(93))\n",
    "print(mylist.search(100))"
   ]
  },
  {
   "cell_type": "code",
   "execution_count": null,
   "metadata": {
    "collapsed": true
   },
   "outputs": [],
   "source": []
  }
 ],
 "metadata": {
  "kernelspec": {
   "display_name": "Python [default]",
   "language": "python",
   "name": "python3"
  },
  "language_info": {
   "codemirror_mode": {
    "name": "ipython",
    "version": 3
   },
   "file_extension": ".py",
   "mimetype": "text/x-python",
   "name": "python",
   "nbconvert_exporter": "python",
   "pygments_lexer": "ipython3",
   "version": "3.5.2"
  }
 },
 "nbformat": 4,
 "nbformat_minor": 1
}
