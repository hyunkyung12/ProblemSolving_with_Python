{
 "cells": [
  {
   "cell_type": "code",
   "execution_count": 39,
   "metadata": {
    "collapsed": true
   },
   "outputs": [],
   "source": [
    "def bubbleSort(alist):\n",
    "    for pairNum in range(len(alist)-1,0,-1):\n",
    "        print(pairNum)\n",
    "        for i in range(pairNum):\n",
    "            if alist[i] > alist[i+1]:\n",
    "                print('swapping {} and {}'.format(alist[i-1], alist[i]))\n",
    "                temp = alist[i]\n",
    "                alist[i] = alist[i+1]\n",
    "                alist[i+1] = temp\n",
    "        print(alist)\n",
    "    return alist"
   ]
  },
  {
   "cell_type": "code",
   "execution_count": 40,
   "metadata": {
    "collapsed": false
   },
   "outputs": [
    {
     "name": "stdout",
     "output_type": "stream",
     "text": [
      "8\n",
      "swapping 20 and 54\n",
      "swapping 54 and 93\n",
      "swapping 17 and 93\n",
      "swapping 77 and 93\n",
      "swapping 31 and 93\n",
      "swapping 44 and 93\n",
      "swapping 55 and 93\n",
      "[26, 54, 17, 77, 31, 44, 55, 20, 93]\n",
      "7\n",
      "swapping 26 and 54\n",
      "swapping 54 and 77\n",
      "swapping 31 and 77\n",
      "swapping 44 and 77\n",
      "swapping 55 and 77\n",
      "[26, 17, 54, 31, 44, 55, 20, 77, 93]\n",
      "6\n",
      "swapping 93 and 26\n",
      "swapping 26 and 54\n",
      "swapping 31 and 54\n",
      "swapping 54 and 55\n",
      "[17, 26, 31, 44, 54, 20, 55, 77, 93]\n",
      "5\n",
      "swapping 44 and 54\n",
      "[17, 26, 31, 44, 20, 54, 55, 77, 93]\n",
      "4\n",
      "swapping 31 and 44\n",
      "[17, 26, 31, 20, 44, 54, 55, 77, 93]\n",
      "3\n",
      "swapping 26 and 31\n",
      "[17, 26, 20, 31, 44, 54, 55, 77, 93]\n",
      "2\n",
      "swapping 17 and 26\n",
      "[17, 20, 26, 31, 44, 54, 55, 77, 93]\n",
      "1\n",
      "[17, 20, 26, 31, 44, 54, 55, 77, 93]\n"
     ]
    },
    {
     "data": {
      "text/plain": [
       "[17, 20, 26, 31, 44, 54, 55, 77, 93]"
      ]
     },
     "execution_count": 40,
     "metadata": {},
     "output_type": "execute_result"
    }
   ],
   "source": [
    "bubbleSort([54, 26, 93, 17, 77, 31, 44, 55, 20])"
   ]
  },
  {
   "cell_type": "code",
   "execution_count": 27,
   "metadata": {
    "collapsed": true
   },
   "outputs": [],
   "source": [
    "def bubbleSort(alist):\n",
    "    for passnum in range(len(alist)-1,0,-1):\n",
    "#         print(passnum)\n",
    "        for i in range(passnum):\n",
    "            if alist[i]>alist[i+1]:\n",
    "                temp = alist[i]\n",
    "                alist[i] = alist[i+1]\n",
    "                alist[i+1] = temp\n",
    "        print(alist)"
   ]
  },
  {
   "cell_type": "code",
   "execution_count": 28,
   "metadata": {
    "collapsed": false
   },
   "outputs": [
    {
     "name": "stdout",
     "output_type": "stream",
     "text": [
      "[26, 54, 17, 77, 31, 44, 55, 20, 93]\n",
      "[26, 17, 54, 31, 44, 55, 20, 77, 93]\n",
      "[17, 26, 31, 44, 54, 20, 55, 77, 93]\n",
      "[17, 26, 31, 44, 20, 54, 55, 77, 93]\n",
      "[17, 26, 31, 20, 44, 54, 55, 77, 93]\n",
      "[17, 26, 20, 31, 44, 54, 55, 77, 93]\n",
      "[17, 20, 26, 31, 44, 54, 55, 77, 93]\n",
      "[17, 20, 26, 31, 44, 54, 55, 77, 93]\n",
      "[17, 20, 26, 31, 44, 54, 55, 77, 93]\n"
     ]
    }
   ],
   "source": [
    "alist = [54,26,93,17,77,31,44,55,20]\n",
    "bubbleSort(alist)\n",
    "print(alist)"
   ]
  },
  {
   "cell_type": "code",
   "execution_count": 47,
   "metadata": {
    "collapsed": true
   },
   "outputs": [],
   "source": [
    "def betterBubbleSort(alist):\n",
    "    exchange = True\n",
    "    pairNum = len(alist) - 1\n",
    "    while pairNum > 0 and exchange:\n",
    "        print(pairNum)\n",
    "        exchange = False\n",
    "        for i in range(pairNum):\n",
    "            if alist[i] > alist[i+1]:\n",
    "                print('swapping {} and {}'.format(alist[i-1], alist[i]))\n",
    "                temp = alist[i]\n",
    "                alist[i] = alist[i+1]\n",
    "                alist[i+1] = temp\n",
    "                exchange = True\n",
    "        pairNum = pairNum-1\n",
    "        print(alist)        "
   ]
  },
  {
   "cell_type": "code",
   "execution_count": 48,
   "metadata": {
    "collapsed": false,
    "scrolled": true
   },
   "outputs": [
    {
     "name": "stdout",
     "output_type": "stream",
     "text": [
      "8\n",
      "swapping 20 and 54\n",
      "swapping 54 and 93\n",
      "swapping 17 and 93\n",
      "swapping 77 and 93\n",
      "swapping 31 and 93\n",
      "swapping 44 and 93\n",
      "swapping 55 and 93\n",
      "[26, 54, 17, 77, 31, 44, 55, 20, 93]\n",
      "7\n",
      "swapping 26 and 54\n",
      "swapping 54 and 77\n",
      "swapping 31 and 77\n",
      "swapping 44 and 77\n",
      "swapping 55 and 77\n",
      "[26, 17, 54, 31, 44, 55, 20, 77, 93]\n",
      "6\n",
      "swapping 93 and 26\n",
      "swapping 26 and 54\n",
      "swapping 31 and 54\n",
      "swapping 54 and 55\n",
      "[17, 26, 31, 44, 54, 20, 55, 77, 93]\n",
      "5\n",
      "swapping 44 and 54\n",
      "[17, 26, 31, 44, 20, 54, 55, 77, 93]\n",
      "4\n",
      "swapping 31 and 44\n",
      "[17, 26, 31, 20, 44, 54, 55, 77, 93]\n",
      "3\n",
      "swapping 26 and 31\n",
      "[17, 26, 20, 31, 44, 54, 55, 77, 93]\n",
      "2\n",
      "swapping 17 and 26\n",
      "[17, 20, 26, 31, 44, 54, 55, 77, 93]\n",
      "1\n",
      "[17, 20, 26, 31, 44, 54, 55, 77, 93]\n"
     ]
    }
   ],
   "source": [
    "betterBubbleSort([54, 26, 93, 17, 77, 31, 44, 55, 20])"
   ]
  },
  {
   "cell_type": "code",
   "execution_count": 49,
   "metadata": {
    "collapsed": false
   },
   "outputs": [
    {
     "name": "stdout",
     "output_type": "stream",
     "text": [
      "9\n",
      "swapping 40 and 90\n",
      "swapping 50 and 90\n",
      "swapping 60 and 90\n",
      "swapping 70 and 90\n",
      "[20, 30, 40, 50, 60, 70, 80, 90, 100, 110]\n",
      "8\n",
      "[20, 30, 40, 50, 60, 70, 80, 90, 100, 110]\n"
     ]
    }
   ],
   "source": [
    "betterBubbleSort([20,30,40,90,50,60,70,80,100,110])"
   ]
  },
  {
   "cell_type": "code",
   "execution_count": 50,
   "metadata": {
    "collapsed": false
   },
   "outputs": [
    {
     "name": "stdout",
     "output_type": "stream",
     "text": [
      "9\n",
      "swapping 40 and 90\n",
      "swapping 50 and 90\n",
      "swapping 60 and 90\n",
      "swapping 70 and 90\n",
      "[20, 30, 40, 50, 60, 70, 80, 90, 100, 110]\n",
      "8\n",
      "[20, 30, 40, 50, 60, 70, 80, 90, 100, 110]\n",
      "7\n",
      "[20, 30, 40, 50, 60, 70, 80, 90, 100, 110]\n",
      "6\n",
      "[20, 30, 40, 50, 60, 70, 80, 90, 100, 110]\n",
      "5\n",
      "[20, 30, 40, 50, 60, 70, 80, 90, 100, 110]\n",
      "4\n",
      "[20, 30, 40, 50, 60, 70, 80, 90, 100, 110]\n",
      "3\n",
      "[20, 30, 40, 50, 60, 70, 80, 90, 100, 110]\n",
      "2\n",
      "[20, 30, 40, 50, 60, 70, 80, 90, 100, 110]\n",
      "1\n",
      "[20, 30, 40, 50, 60, 70, 80, 90, 100, 110]\n"
     ]
    },
    {
     "data": {
      "text/plain": [
       "[20, 30, 40, 50, 60, 70, 80, 90, 100, 110]"
      ]
     },
     "execution_count": 50,
     "metadata": {},
     "output_type": "execute_result"
    }
   ],
   "source": [
    "bubbleSort([20,30,40,90,50,60,70,80,100,110])"
   ]
  },
  {
   "cell_type": "code",
   "execution_count": 134,
   "metadata": {
    "collapsed": true
   },
   "outputs": [],
   "source": [
    "def insertionSort(alist):\n",
    "    for temp in range(len(alist)):\n",
    "        tempValue = alist[temp]\n",
    "        compareIdx = temp\n",
    "        print('\\ntempValue : {}'.format(tempValue))\n",
    "        while compareIdx > 0 and alist[compareIdx-1] > tempValue:\n",
    "            print('shift {} -> {}'.format(alist[compareIdx-1], alist[compareIdx]))\n",
    "            alist[compareIdx] = alist[compareIdx-1]\n",
    "            compareIdx = compareIdx-1\n",
    "            \n",
    "        alist[compareIdx] = tempValue\n",
    "    return alist"
   ]
  },
  {
   "cell_type": "code",
   "execution_count": 135,
   "metadata": {
    "collapsed": false
   },
   "outputs": [
    {
     "name": "stdout",
     "output_type": "stream",
     "text": [
      "\n",
      "tempValue : 54\n",
      "\n",
      "tempValue : 26\n",
      "shift 54 -> 26\n",
      "\n",
      "tempValue : 93\n",
      "\n",
      "tempValue : 17\n",
      "shift 93 -> 17\n",
      "shift 54 -> 93\n",
      "shift 26 -> 54\n",
      "\n",
      "tempValue : 77\n",
      "shift 93 -> 77\n",
      "\n",
      "tempValue : 31\n",
      "shift 93 -> 31\n",
      "shift 77 -> 93\n",
      "shift 54 -> 77\n",
      "\n",
      "tempValue : 44\n",
      "shift 93 -> 44\n",
      "shift 77 -> 93\n",
      "shift 54 -> 77\n",
      "\n",
      "tempValue : 55\n",
      "shift 93 -> 55\n",
      "shift 77 -> 93\n",
      "\n",
      "tempValue : 20\n",
      "shift 93 -> 20\n",
      "shift 77 -> 93\n",
      "shift 55 -> 77\n",
      "shift 54 -> 55\n",
      "shift 44 -> 54\n",
      "shift 31 -> 44\n",
      "shift 26 -> 31\n"
     ]
    },
    {
     "data": {
      "text/plain": [
       "[17, 20, 26, 31, 44, 54, 55, 77, 93]"
      ]
     },
     "execution_count": 135,
     "metadata": {},
     "output_type": "execute_result"
    }
   ],
   "source": [
    "insertionSort([54, 26, 93, 17, 77, 31, 44, 55, 20])"
   ]
  },
  {
   "cell_type": "code",
   "execution_count": 166,
   "metadata": {
    "collapsed": false
   },
   "outputs": [],
   "source": [
    "def selectionSort(alist):\n",
    "    tempIdx = len(alist)-1\n",
    "    \n",
    "    while tempIdx > 0:\n",
    "        maxIdx = 0\n",
    "        maxValue = alist[0]\n",
    "        \n",
    "        for i in range(tempIdx+1):\n",
    "            if alist[i] > maxValue:\n",
    "                maxIdx = i\n",
    "                maxValue = alist[i]\n",
    "        print('max value : {}, temp value : {}'.format(alist[maxIdx],alist[tempIdx]))\n",
    "        print('before swap : {}'.format(alist))\n",
    "        temp = alist[tempIdx] \n",
    "        alist[tempIdx] = alist[maxIdx]\n",
    "        alist[maxIdx] = temp\n",
    "        \n",
    "        tempIdx = tempIdx - 1\n",
    "        print('after swap : {}\\n'.format(alist))\n",
    "    \n",
    "    return alist"
   ]
  },
  {
   "cell_type": "code",
   "execution_count": 167,
   "metadata": {
    "collapsed": false
   },
   "outputs": [
    {
     "name": "stdout",
     "output_type": "stream",
     "text": [
      "max value : 93, temp value : 20\n",
      "before swap : [54, 26, 93, 17, 77, 31, 44, 55, 20]\n",
      "after swap : [54, 26, 20, 17, 77, 31, 44, 55, 93]\n",
      "\n",
      "max value : 77, temp value : 55\n",
      "before swap : [54, 26, 20, 17, 77, 31, 44, 55, 93]\n",
      "after swap : [54, 26, 20, 17, 55, 31, 44, 77, 93]\n",
      "\n",
      "max value : 55, temp value : 44\n",
      "before swap : [54, 26, 20, 17, 55, 31, 44, 77, 93]\n",
      "after swap : [54, 26, 20, 17, 44, 31, 55, 77, 93]\n",
      "\n",
      "max value : 54, temp value : 31\n",
      "before swap : [54, 26, 20, 17, 44, 31, 55, 77, 93]\n",
      "after swap : [31, 26, 20, 17, 44, 54, 55, 77, 93]\n",
      "\n",
      "max value : 44, temp value : 44\n",
      "before swap : [31, 26, 20, 17, 44, 54, 55, 77, 93]\n",
      "after swap : [31, 26, 20, 17, 44, 54, 55, 77, 93]\n",
      "\n",
      "max value : 31, temp value : 17\n",
      "before swap : [31, 26, 20, 17, 44, 54, 55, 77, 93]\n",
      "after swap : [17, 26, 20, 31, 44, 54, 55, 77, 93]\n",
      "\n",
      "max value : 26, temp value : 20\n",
      "before swap : [17, 26, 20, 31, 44, 54, 55, 77, 93]\n",
      "after swap : [17, 20, 26, 31, 44, 54, 55, 77, 93]\n",
      "\n",
      "max value : 20, temp value : 20\n",
      "before swap : [17, 20, 26, 31, 44, 54, 55, 77, 93]\n",
      "after swap : [17, 20, 26, 31, 44, 54, 55, 77, 93]\n",
      "\n"
     ]
    },
    {
     "data": {
      "text/plain": [
       "[17, 20, 26, 31, 44, 54, 55, 77, 93]"
      ]
     },
     "execution_count": 167,
     "metadata": {},
     "output_type": "execute_result"
    }
   ],
   "source": [
    "selectionSort([54,26,93,17,77,31,44,55,20])"
   ]
  },
  {
   "cell_type": "code",
   "execution_count": 170,
   "metadata": {
    "collapsed": true
   },
   "outputs": [],
   "source": [
    "def gapInsertionSort(alist, start, gap):\n",
    "    \n",
    "    for i in range(start+gap, len(alist), gap):\n",
    "        tempValue = alist[i]\n",
    "        tempIdx = i\n",
    "        while tempIdx >= gap and alist[tempIdx - gap] > tempValue:\n",
    "            alist[tempIdx] = alist[tempIdx - gap]\n",
    "            tempIdx = tempIdx - gap\n",
    "        \n",
    "        alist[tempIdx] = tempValue\n",
    "    \n",
    "    return alist\n",
    "\n",
    "def shellSort(alist):\n",
    "    \n",
    "    sublistcount = len(alist) // 2\n",
    "    while sublistcount > 0:\n",
    "        \n",
    "        print(sublistcount)\n",
    "        \n",
    "        for start in range(sublistcount):\n",
    "            alist = gapInsertionSort(alist, start, sublistcount)\n",
    "            \n",
    "        sublistcount = sublistcount // 2"
   ]
  },
  {
   "cell_type": "code",
   "execution_count": 171,
   "metadata": {
    "collapsed": false
   },
   "outputs": [
    {
     "name": "stdout",
     "output_type": "stream",
     "text": [
      "4\n",
      "2\n",
      "1\n",
      "[17, 20, 26, 31, 44, 54, 55, 77, 93]\n"
     ]
    }
   ],
   "source": [
    "alist = [54,26,93,17,77,31,44,55,20]\n",
    "shellSort(alist)\n",
    "print(alist)"
   ]
  },
  {
   "cell_type": "code",
   "execution_count": null,
   "metadata": {
    "collapsed": true
   },
   "outputs": [],
   "source": []
  }
 ],
 "metadata": {
  "anaconda-cloud": {},
  "kernelspec": {
   "display_name": "Python [default]",
   "language": "python",
   "name": "python3"
  },
  "language_info": {
   "codemirror_mode": {
    "name": "ipython",
    "version": 3
   },
   "file_extension": ".py",
   "mimetype": "text/x-python",
   "name": "python",
   "nbconvert_exporter": "python",
   "pygments_lexer": "ipython3",
   "version": "3.5.2"
  }
 },
 "nbformat": 4,
 "nbformat_minor": 1
}
