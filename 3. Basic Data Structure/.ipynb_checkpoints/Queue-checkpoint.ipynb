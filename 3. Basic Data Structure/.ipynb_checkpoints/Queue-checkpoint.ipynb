{
 "cells": [
  {
   "cell_type": "markdown",
   "metadata": {},
   "source": [
    "### 기본적인 큐 기능 구현하기\n",
    "<br>\n",
    "\n",
    "앞에서 스택을 구현했던것 처럼, 큐도 간단하게 구현해볼 수 있습니다."
   ]
  },
  {
   "cell_type": "code",
   "execution_count": 1,
   "metadata": {
    "collapsed": true
   },
   "outputs": [],
   "source": [
    "class Queue:\n",
    "    def __init__(self):\n",
    "        self.items = []\n",
    "\n",
    "    def isEmpty(self):\n",
    "        return self.items == []\n",
    "\n",
    "    def enqueue(self, item):\n",
    "        self.items.insert(0,item)\n",
    "\n",
    "    def dequeue(self):\n",
    "        return self.items.pop()\n",
    "\n",
    "    def size(self):\n",
    "        return len(self.items)"
   ]
  },
  {
   "cell_type": "markdown",
   "metadata": {},
   "source": [
    "또한 파이썬에서 제공하는 라이브러리로도 queue 을 사용할 수 있습니다.\n",
    "\n",
    "기본 설치 라이브러리는 아니기 때문에 ``pip install pythonds`` 로 설치해 주어야 합니다."
   ]
  },
  {
   "cell_type": "code",
   "execution_count": 2,
   "metadata": {
    "collapsed": false
   },
   "outputs": [
    {
     "name": "stdout",
     "output_type": "stream",
     "text": [
      "True\n",
      "4\n"
     ]
    }
   ],
   "source": [
    "from pythonds.basic.queue import Queue\n",
    "\n",
    "q = Queue()\n",
    "\n",
    "print(q.isEmpty())\n",
    "q.enqueue(4)\n",
    "q.enqueue('dog')\n",
    "print(q.dequeue())\n"
   ]
  },
  {
   "cell_type": "markdown",
   "metadata": {},
   "source": [
    "### 큐 활용하기"
   ]
  },
  {
   "cell_type": "markdown",
   "metadata": {},
   "source": [
    "#### - hot potato (원형큐)\n",
    "\n",
    "   : 주어진 num 만큼 패스 한 후 다음 게임을 시작할 때 누구부터 시작해야 하는지"
   ]
  },
  {
   "cell_type": "code",
   "execution_count": 3,
   "metadata": {
    "collapsed": true
   },
   "outputs": [],
   "source": [
    "from pythonds.basic.queue import Queue\n",
    "\n",
    "def hotPotato(namelist, num):\n",
    "    q = Queue()\n",
    "    \n",
    "    for name in namelist:\n",
    "        q.enqueue(name)\n",
    "    \n",
    "    for i in range(num):\n",
    "        q.enqueue(q.dequeue())\n",
    "        \n",
    "    q.dequeue()\n",
    "    \n",
    "    nextName = q.dequeue()\n",
    "    \n",
    "    return nextName"
   ]
  },
  {
   "cell_type": "code",
   "execution_count": 4,
   "metadata": {
    "collapsed": false,
    "scrolled": true
   },
   "outputs": [
    {
     "data": {
      "text/plain": [
       "'Susan'"
      ]
     },
     "execution_count": 4,
     "metadata": {},
     "output_type": "execute_result"
    }
   ],
   "source": [
    "hotPotato([\"Bill\",\"David\",\"Susan\",\"Jane\",\"Kent\",\"Brad\"],7)"
   ]
  },
  {
   "cell_type": "code",
   "execution_count": 8,
   "metadata": {
    "collapsed": false,
    "scrolled": true
   },
   "outputs": [
    {
     "data": {
      "text/plain": [
       "'David'"
      ]
     },
     "execution_count": 8,
     "metadata": {},
     "output_type": "execute_result"
    }
   ],
   "source": [
    "hotPotato([\"Bill\",\"David\",\"Susan\",\"Jane\"],60)"
   ]
  },
  {
   "cell_type": "markdown",
   "metadata": {},
   "source": [
    "#### - 프린터의 적절한 성능 결정하기\n",
    "\n",
    "   : 학생수 10명, 학생은 1~20 페이지 인쇄 가능\n",
    "   \n",
    "   : 제한시간(초) 동안 프린터의 처리율이 얼마나 좋아야 하는지 계산"
   ]
  },
  {
   "cell_type": "markdown",
   "metadata": {},
   "source": [
    "고려할 점\n",
    "    - 학생은 랜덤으로 1~20 페이지를 인쇄함\n",
    "    - 한 학생의 일을 처리하는 동안 다른 학생의 일을 처리할 수는 없음\n",
    "    - 프린터의 처리율에 따라 대기열이 생길 수 있음\n",
    "    - 프린터의 처리율을 바꿔가며 실험해야 하기 때문에 매개변수로 받아야 함"
   ]
  },
  {
   "cell_type": "code",
   "execution_count": null,
   "metadata": {
    "collapsed": true
   },
   "outputs": [],
   "source": [
    "def simulate(seconds, rate):\n",
    "    \n",
    "    "
   ]
  },
  {
   "cell_type": "code",
   "execution_count": null,
   "metadata": {
    "collapsed": true
   },
   "outputs": [],
   "source": [
    "import random\n",
    "\n",
    "class Task:\n",
    "    def __init__(self, seconds):\n",
    "        "
   ]
  },
  {
   "cell_type": "code",
   "execution_count": null,
   "metadata": {
    "collapsed": true
   },
   "outputs": [],
   "source": [
    "class Printer:\n",
    "    def __init__(self, rate):\n",
    "        self.rate = rate\n",
    "        self.remainTime = 0\n",
    "        self.currentTask = None\n",
    "        \n",
    "    def isBusy(self):\n",
    "        if self.currentTask == None:\n",
    "            return False\n",
    "        else:\n",
    "            return True\n",
    "    \n",
    "    "
   ]
  },
  {
   "cell_type": "code",
   "execution_count": null,
   "metadata": {
    "collapsed": true
   },
   "outputs": [],
   "source": [
    "class Task:\n",
    "    def __init__(self, seconds):\n",
    "        "
   ]
  }
 ],
 "metadata": {
  "kernelspec": {
   "display_name": "Python [default]",
   "language": "python",
   "name": "python3"
  },
  "language_info": {
   "codemirror_mode": {
    "name": "ipython",
    "version": 3
   },
   "file_extension": ".py",
   "mimetype": "text/x-python",
   "name": "python",
   "nbconvert_exporter": "python",
   "pygments_lexer": "ipython3",
   "version": "3.5.2"
  }
 },
 "nbformat": 4,
 "nbformat_minor": 1
}
