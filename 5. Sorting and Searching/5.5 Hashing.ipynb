{
 "cells": [
  {
   "cell_type": "markdown",
   "metadata": {},
   "source": [
    "해싱은 앞에서 살펴본 search 방법과는 조금 다른 접근법입니다.\n",
    "\n",
    "앞에서 살펴본 sequencial 이나 binary search 는 이미 저장되어 있는 리스트 내에서 값을 얼마나 빨리 찾을지에 관한 접근이라면,\n",
    "\n",
    "hashing 은 리스트의 값들을 빨리 참조하기 위해서 어떻게 저장해야할지를 고민하는 접근입니다. \n",
    "\n",
    "어떻게 저장해야할지를 고민하는것은, 다른말로는 hash function 을 정의한다고 합니다.\n",
    "\n",
    "해시 충돌의 해결법이나 좋은 해시 함수를 정의하는 방법등은 블로그 포스팅을 참조해주시기 바랍니다.\n"
   ]
  },
  {
   "cell_type": "code",
   "execution_count": 8,
   "metadata": {
    "collapsed": false
   },
   "outputs": [],
   "source": [
    "class HashTable:\n",
    "    def __init__(self):\n",
    "        self.size = 11\n",
    "        self.slots = [None] * self.size\n",
    "        self.data = [None] * self.size\n",
    "        \n",
    "    def __getitem__(self,key):\n",
    "        return self.get(key)\n",
    "\n",
    "    def __setitem__(self,key,data):\n",
    "        self.put(key,data)\n",
    "        \n",
    "    def get(self,key):\n",
    "        startslot = self.hashfunction(key,len(self.slots))\n",
    "\n",
    "        data = None\n",
    "        stop = False\n",
    "        found = False\n",
    "        position = startslot\n",
    "        while self.slots[position] != None and  \\\n",
    "                           not found and not stop:\n",
    "            if self.slots[position] == key:\n",
    "                found = True\n",
    "                data = self.data[position]\n",
    "            else:\n",
    "                position=self.rehash(position,len(self.slots))\n",
    "                if position == startslot:\n",
    "                    stop = True\n",
    "        return data\n",
    "    \n",
    "    def put(self, key, data):\n",
    "        hashvalue = self.hashfunction(key,len(self.slots))\n",
    "\n",
    "        if self.slots[hashvalue] == None:\n",
    "            self.slots[hashvalue] = key\n",
    "            self.data[hashvalue] = data\n",
    "        else:\n",
    "            if self.slots[hashvalue] == key:\n",
    "                self.data[hashvalue] = data  \n",
    "            else:\n",
    "                nextslot = self.rehash(hashvalue, len(self.slots))\n",
    "\n",
    "                while self.slots[nextslot] != None and \\\n",
    "                          self.slots[nextslot] != key:\n",
    "                    nextslot = self.rehash(nextslot, len(self.slots))\n",
    "\n",
    "                if self.slots[nextslot] == None:\n",
    "                    self.slots[nextslot] = key\n",
    "                    self.data[nextslot] = data\n",
    "                else:\n",
    "                    self.data[nextslot] = data\n",
    "\n",
    "    def hashfunction(self, key, size):\n",
    "         return key % size\n",
    "\n",
    "    def rehash(self, oldhash, size):\n",
    "        return (oldhash + 1) % size"
   ]
  },
  {
   "cell_type": "markdown",
   "metadata": {},
   "source": [
    "hash 를 사용하기 위해 두 개의 리스트를 정의했습니다.\n",
    "\n",
    "slot 은 키값을 저장할 리스트이고, data 는 키값에 따른 데이터를 저장할 리스트 입니다."
   ]
  },
  {
   "cell_type": "code",
   "execution_count": 12,
   "metadata": {
    "collapsed": true
   },
   "outputs": [],
   "source": [
    "H = HashTable()"
   ]
  },
  {
   "cell_type": "code",
   "execution_count": 13,
   "metadata": {
    "collapsed": false
   },
   "outputs": [],
   "source": [
    "H[54]=\"cat\"\n",
    "H[93]=\"lion\"\n",
    "H[26]=\"dog\"\n",
    "H[17]=\"tiger\"\n",
    "H[77]=\"bird\""
   ]
  },
  {
   "cell_type": "code",
   "execution_count": 14,
   "metadata": {
    "collapsed": false
   },
   "outputs": [
    {
     "data": {
      "text/plain": [
       "[77, None, None, None, 26, 93, 17, None, None, None, 54]"
      ]
     },
     "execution_count": 14,
     "metadata": {},
     "output_type": "execute_result"
    }
   ],
   "source": [
    "H.slots"
   ]
  },
  {
   "cell_type": "code",
   "execution_count": 15,
   "metadata": {
    "collapsed": false
   },
   "outputs": [
    {
     "data": {
      "text/plain": [
       "['bird', None, None, None, 'dog', 'lion', 'tiger', None, None, None, 'cat']"
      ]
     },
     "execution_count": 15,
     "metadata": {},
     "output_type": "execute_result"
    }
   ],
   "source": [
    "H.data"
   ]
  },
  {
   "cell_type": "code",
   "execution_count": 16,
   "metadata": {
    "collapsed": true
   },
   "outputs": [],
   "source": [
    "H[20]='duck'"
   ]
  },
  {
   "cell_type": "code",
   "execution_count": 17,
   "metadata": {
    "collapsed": false
   },
   "outputs": [
    {
     "data": {
      "text/plain": [
       "['bird', None, None, None, 'dog', 'lion', 'tiger', None, None, 'duck', 'cat']"
      ]
     },
     "execution_count": 17,
     "metadata": {},
     "output_type": "execute_result"
    }
   ],
   "source": [
    "H.data"
   ]
  },
  {
   "cell_type": "code",
   "execution_count": null,
   "metadata": {
    "collapsed": true
   },
   "outputs": [],
   "source": []
  }
 ],
 "metadata": {
  "kernelspec": {
   "display_name": "Python [default]",
   "language": "python",
   "name": "python3"
  },
  "language_info": {
   "codemirror_mode": {
    "name": "ipython",
    "version": 3
   },
   "file_extension": ".py",
   "mimetype": "text/x-python",
   "name": "python",
   "nbconvert_exporter": "python",
   "pygments_lexer": "ipython3",
   "version": "3.5.2"
  }
 },
 "nbformat": 4,
 "nbformat_minor": 1
}
