{
 "cells": [
  {
   "cell_type": "markdown",
   "metadata": {},
   "source": [
    "#### 5. Merge Sort\n",
    " : 리스트를 최소 단위로 나누어 정렬 후, 합치면서 다시 정렬합니다."
   ]
  },
  {
   "cell_type": "code",
   "execution_count": 2,
   "metadata": {
    "collapsed": false
   },
   "outputs": [
    {
     "name": "stdout",
     "output_type": "stream",
     "text": [
      "Splitting  [54, 26, 93, 17, 77, 31, 44, 55, 20]\n",
      "Splitting  [54, 26, 93, 17]\n",
      "Splitting  [54, 26]\n",
      "Splitting  [54]\n",
      "Merging  [54]\n",
      "Splitting  [26]\n",
      "Merging  [26]\n",
      "Merging  [26, 54]\n",
      "Splitting  [93, 17]\n",
      "Splitting  [93]\n",
      "Merging  [93]\n",
      "Splitting  [17]\n",
      "Merging  [17]\n",
      "Merging  [17, 93]\n",
      "Merging  [17, 26, 54, 93]\n",
      "Splitting  [77, 31, 44, 55, 20]\n",
      "Splitting  [77, 31]\n",
      "Splitting  [77]\n",
      "Merging  [77]\n",
      "Splitting  [31]\n",
      "Merging  [31]\n",
      "Merging  [31, 77]\n",
      "Splitting  [44, 55, 20]\n",
      "Splitting  [44]\n",
      "Merging  [44]\n",
      "Splitting  [55, 20]\n",
      "Splitting  [55]\n",
      "Merging  [55]\n",
      "Splitting  [20]\n",
      "Merging  [20]\n",
      "Merging  [20, 55]\n",
      "Merging  [20, 44, 55]\n",
      "Merging  [20, 31, 44, 55, 77]\n",
      "Merging  [17, 20, 26, 31, 44, 54, 55, 77, 93]\n",
      "[17, 20, 26, 31, 44, 54, 55, 77, 93]\n"
     ]
    }
   ],
   "source": [
    "def mergeSort(alist):\n",
    "    print(\"Splitting \",alist)\n",
    "    if len(alist)>1:\n",
    "        mid = len(alist)//2\n",
    "        lefthalf = alist[:mid]\n",
    "        righthalf = alist[mid:]\n",
    "\n",
    "        mergeSort(lefthalf)\n",
    "        mergeSort(righthalf)\n",
    "\n",
    "        i=0\n",
    "        j=0\n",
    "        k=0\n",
    "        while i < len(lefthalf) and j < len(righthalf):\n",
    "            if lefthalf[i] < righthalf[j]:\n",
    "                alist[k]=lefthalf[i]\n",
    "                i=i+1\n",
    "            else:\n",
    "                alist[k]=righthalf[j]\n",
    "                j=j+1\n",
    "            k=k+1\n",
    "\n",
    "        while i < len(lefthalf):\n",
    "            alist[k]=lefthalf[i]\n",
    "            i=i+1\n",
    "            k=k+1\n",
    "\n",
    "        while j < len(righthalf):\n",
    "            alist[k]=righthalf[j]\n",
    "            j=j+1\n",
    "            k=k+1\n",
    "    print(\"Merging \",alist)\n",
    "\n",
    "alist = [54,26,93,17,77,31,44,55,20]\n",
    "mergeSort(alist)\n",
    "print(alist)"
   ]
  },
  {
   "cell_type": "code",
   "execution_count": 5,
   "metadata": {
    "collapsed": true
   },
   "outputs": [],
   "source": [
    "def mergeSort(alist):\n",
    "    print('Splitting {}'.format(alist))\n",
    "    if len(alist) > 1:\n",
    "        mid = len(alist) // 2\n",
    "        leftList = alist[:mid]\n",
    "        rightList = alist[mid:]\n",
    "        \n",
    "        mergeSort(leftList)\n",
    "        mergeSort(rightList)\n",
    "        \n",
    "        leftIdx = 0\n",
    "        rightIdx = 0\n",
    "        originIdx = 0\n",
    "        \n",
    "        while leftIdx < len(leftList) and rightIdx < len(rightList):\n",
    "            if leftList[leftIdx] < rightList[rightIdx]:\n",
    "                alist[originIdx] = leftList[leftIdx]\n",
    "                leftIdx = leftIdx + 1\n",
    "            else:\n",
    "                alist[originIdx] = rightList[rightIdx]\n",
    "                rightIdx = rightIdx + 1\n",
    "            originIdx = originIdx + 1\n",
    "            \n",
    "        while leftIdx < len(leftList):\n",
    "            alist[originIdx] = leftList[leftIdx]\n",
    "            leftIdx = leftIdx + 1\n",
    "            originIdx = originIdx + 1\n",
    "            \n",
    "        while rightIdx < len(rightList):\n",
    "            alist[originIdx] = rightList[rightIdx]\n",
    "            rightIdx = rightIdx + 1\n",
    "            originIdx = originIdx + 1\n",
    "            \n",
    "        print('Mergeing {}'.format(alist))\n",
    "        "
   ]
  },
  {
   "cell_type": "code",
   "execution_count": 6,
   "metadata": {
    "collapsed": false
   },
   "outputs": [
    {
     "name": "stdout",
     "output_type": "stream",
     "text": [
      "Splitting [54, 26, 93, 17, 77, 31, 44, 55, 20]\n",
      "Splitting [54, 26, 93, 17]\n",
      "Splitting [54, 26]\n",
      "Splitting [54]\n",
      "Splitting [26]\n",
      "Mergeing [26, 54]\n",
      "Splitting [93, 17]\n",
      "Splitting [93]\n",
      "Splitting [17]\n",
      "Mergeing [17, 93]\n",
      "Mergeing [17, 26, 54, 93]\n",
      "Splitting [77, 31, 44, 55, 20]\n",
      "Splitting [77, 31]\n",
      "Splitting [77]\n",
      "Splitting [31]\n",
      "Mergeing [31, 77]\n",
      "Splitting [44, 55, 20]\n",
      "Splitting [44]\n",
      "Splitting [55, 20]\n",
      "Splitting [55]\n",
      "Splitting [20]\n",
      "Mergeing [20, 55]\n",
      "Mergeing [20, 44, 55]\n",
      "Mergeing [20, 31, 44, 55, 77]\n",
      "Mergeing [17, 20, 26, 31, 44, 54, 55, 77, 93]\n",
      "[17, 20, 26, 31, 44, 54, 55, 77, 93]\n"
     ]
    }
   ],
   "source": [
    "alist = [54,26,93,17,77,31,44,55,20]\n",
    "mergeSort(alist)\n",
    "print(alist)"
   ]
  },
  {
   "cell_type": "code",
   "execution_count": null,
   "metadata": {
    "collapsed": true
   },
   "outputs": [],
   "source": [
    "def mergeSort(alist, halfIdx):\n",
    "    print('Splitting {}'.format(alist))\n",
    "    if len(alist) > 1:\n",
    "        halfIdx = halfIdx // 2\n",
    "#         mid = len(alist) // 2\n",
    "#         leftList = alist[:mid]\n",
    "#         rightList = alist[mid:]\n",
    "        \n",
    "        mergeSort(alist, halfIdx)\n",
    "        mergeSort(alist, halfIdx)\n",
    "        \n",
    "        leftIdx = 0\n",
    "        rightIdx = 0\n",
    "        originIdx = 0\n",
    "        \n",
    "        while leftIdx < len(leftList) and rightIdx < len(rightList):\n",
    "            if leftList[leftIdx] < rightList[rightIdx]:\n",
    "                alist[originIdx] = leftList[leftIdx]\n",
    "                leftIdx = leftIdx + 1\n",
    "            else:\n",
    "                alist[originIdx] = rightList[rightIdx]\n",
    "                rightIdx = rightIdx + 1\n",
    "            originIdx = originIdx + 1\n",
    "            \n",
    "        while leftIdx < len(leftList):\n",
    "            alist[originIdx] = leftList[leftIdx]\n",
    "            leftIdx = leftIdx + 1\n",
    "            originIdx = originIdx + 1\n",
    "            \n",
    "        while rightIdx < len(rightList):\n",
    "            alist[originIdx] = rightList[rightIdx]\n",
    "            rightIdx = rightIdx + 1\n",
    "            originIdx = originIdx + 1\n",
    "            \n",
    "        print('Mergeing {}'.format(alist))\n",
    "        "
   ]
  },
  {
   "cell_type": "code",
   "execution_count": 22,
   "metadata": {
    "collapsed": false
   },
   "outputs": [],
   "source": [
    "def quickSort(alist):\n",
    "    \n",
    "    pivot = alist[0]\n",
    "    leftIdx = 1\n",
    "    rightIdx = len(alist) - 1\n",
    "    \n",
    "    while leftIdx <= rightIdx:\n",
    "        \n",
    "        print('pivot : {}, leftmark : {}, rightmark : {}'.format(pivot, alist[leftIdx], alist[rightIdx]))\n",
    "        \n",
    "        if alist[leftIdx] > pivot and alist[rightIdx] < pivot:\n",
    "            print('swap {} and {}'.format(alist[leftIdx], alist[rightIdx]))\n",
    "            temp = alist[leftIdx]\n",
    "            alist[leftIdx] = alist[rightIdx]\n",
    "            alist[rightIdx] = temp\n",
    "            \n",
    "            leftIdx = leftIdx + 1\n",
    "            rightIdx = rightIdx - 1\n",
    "            \n",
    "        elif alist[leftIdx] > pivot:\n",
    "            rightIdx = rightIdx - 1\n",
    "            \n",
    "        elif alist[rightIdx] < pivot:\n",
    "            leftIdx = leftIdx + 1\n",
    "        \n",
    "        else:\n",
    "            leftIdx = leftIdx + 1\n",
    "            rightIdx = rightIdx - 1            \n",
    "    \n",
    "    temp = alist[0]\n",
    "    alist[0] = alist[rightIdx]\n",
    "    alist[rightIdx] = temp\n",
    "    \n",
    "    leftList = alist[:rightIdx-1]\n",
    "    rightList = alist[rightIdx+1:]\n",
    "    \n",
    "    quickSort(leftList)\n",
    "    quickSort(rightList)\n",
    "    \n",
    "    return alist, leftIdx, rightIdx"
   ]
  },
  {
   "cell_type": "code",
   "execution_count": 23,
   "metadata": {
    "collapsed": false
   },
   "outputs": [
    {
     "name": "stdout",
     "output_type": "stream",
     "text": [
      "pivot : 54, leftmark : 26, rightmark : 20\n",
      "pivot : 54, leftmark : 93, rightmark : 20\n",
      "swap 93 and 20\n",
      "pivot : 54, leftmark : 17, rightmark : 55\n",
      "pivot : 54, leftmark : 77, rightmark : 44\n",
      "swap 77 and 44\n",
      "pivot : 54, leftmark : 31, rightmark : 31\n",
      "pivot : 31, leftmark : 26, rightmark : 17\n",
      "pivot : 31, leftmark : 20, rightmark : 17\n",
      "pivot : 31, leftmark : 17, rightmark : 17\n",
      "pivot : 17, leftmark : 26, rightmark : 26\n"
     ]
    },
    {
     "ename": "IndexError",
     "evalue": "list index out of range",
     "output_type": "error",
     "traceback": [
      "\u001b[0;31m---------------------------------------------------------------------------\u001b[0m",
      "\u001b[0;31mIndexError\u001b[0m                                Traceback (most recent call last)",
      "\u001b[0;32m<ipython-input-23-c3e88a5a80c2>\u001b[0m in \u001b[0;36m<module>\u001b[0;34m()\u001b[0m\n\u001b[0;32m----> 1\u001b[0;31m \u001b[0mquickSort\u001b[0m\u001b[1;33m(\u001b[0m\u001b[1;33m[\u001b[0m\u001b[1;36m54\u001b[0m\u001b[1;33m,\u001b[0m\u001b[1;36m26\u001b[0m\u001b[1;33m,\u001b[0m\u001b[1;36m93\u001b[0m\u001b[1;33m,\u001b[0m\u001b[1;36m17\u001b[0m\u001b[1;33m,\u001b[0m\u001b[1;36m77\u001b[0m\u001b[1;33m,\u001b[0m\u001b[1;36m31\u001b[0m\u001b[1;33m,\u001b[0m\u001b[1;36m44\u001b[0m\u001b[1;33m,\u001b[0m\u001b[1;36m55\u001b[0m\u001b[1;33m,\u001b[0m\u001b[1;36m20\u001b[0m\u001b[1;33m]\u001b[0m\u001b[1;33m)\u001b[0m\u001b[1;33m\u001b[0m\u001b[0m\n\u001b[0m",
      "\u001b[0;32m<ipython-input-22-9a28befa1c27>\u001b[0m in \u001b[0;36mquickSort\u001b[0;34m(alist)\u001b[0m\n\u001b[1;32m     35\u001b[0m     \u001b[0mrightList\u001b[0m \u001b[1;33m=\u001b[0m \u001b[0malist\u001b[0m\u001b[1;33m[\u001b[0m\u001b[0mrightIdx\u001b[0m\u001b[1;33m+\u001b[0m\u001b[1;36m1\u001b[0m\u001b[1;33m:\u001b[0m\u001b[1;33m]\u001b[0m\u001b[1;33m\u001b[0m\u001b[0m\n\u001b[1;32m     36\u001b[0m \u001b[1;33m\u001b[0m\u001b[0m\n\u001b[0;32m---> 37\u001b[0;31m     \u001b[0mquickSort\u001b[0m\u001b[1;33m(\u001b[0m\u001b[0mleftList\u001b[0m\u001b[1;33m)\u001b[0m\u001b[1;33m\u001b[0m\u001b[0m\n\u001b[0m\u001b[1;32m     38\u001b[0m     \u001b[0mquickSort\u001b[0m\u001b[1;33m(\u001b[0m\u001b[0mrightList\u001b[0m\u001b[1;33m)\u001b[0m\u001b[1;33m\u001b[0m\u001b[0m\n\u001b[1;32m     39\u001b[0m \u001b[1;33m\u001b[0m\u001b[0m\n",
      "\u001b[0;32m<ipython-input-22-9a28befa1c27>\u001b[0m in \u001b[0;36mquickSort\u001b[0;34m(alist)\u001b[0m\n\u001b[1;32m     35\u001b[0m     \u001b[0mrightList\u001b[0m \u001b[1;33m=\u001b[0m \u001b[0malist\u001b[0m\u001b[1;33m[\u001b[0m\u001b[0mrightIdx\u001b[0m\u001b[1;33m+\u001b[0m\u001b[1;36m1\u001b[0m\u001b[1;33m:\u001b[0m\u001b[1;33m]\u001b[0m\u001b[1;33m\u001b[0m\u001b[0m\n\u001b[1;32m     36\u001b[0m \u001b[1;33m\u001b[0m\u001b[0m\n\u001b[0;32m---> 37\u001b[0;31m     \u001b[0mquickSort\u001b[0m\u001b[1;33m(\u001b[0m\u001b[0mleftList\u001b[0m\u001b[1;33m)\u001b[0m\u001b[1;33m\u001b[0m\u001b[0m\n\u001b[0m\u001b[1;32m     38\u001b[0m     \u001b[0mquickSort\u001b[0m\u001b[1;33m(\u001b[0m\u001b[0mrightList\u001b[0m\u001b[1;33m)\u001b[0m\u001b[1;33m\u001b[0m\u001b[0m\n\u001b[1;32m     39\u001b[0m \u001b[1;33m\u001b[0m\u001b[0m\n",
      "\u001b[0;32m<ipython-input-22-9a28befa1c27>\u001b[0m in \u001b[0;36mquickSort\u001b[0;34m(alist)\u001b[0m\n\u001b[1;32m     35\u001b[0m     \u001b[0mrightList\u001b[0m \u001b[1;33m=\u001b[0m \u001b[0malist\u001b[0m\u001b[1;33m[\u001b[0m\u001b[0mrightIdx\u001b[0m\u001b[1;33m+\u001b[0m\u001b[1;36m1\u001b[0m\u001b[1;33m:\u001b[0m\u001b[1;33m]\u001b[0m\u001b[1;33m\u001b[0m\u001b[0m\n\u001b[1;32m     36\u001b[0m \u001b[1;33m\u001b[0m\u001b[0m\n\u001b[0;32m---> 37\u001b[0;31m     \u001b[0mquickSort\u001b[0m\u001b[1;33m(\u001b[0m\u001b[0mleftList\u001b[0m\u001b[1;33m)\u001b[0m\u001b[1;33m\u001b[0m\u001b[0m\n\u001b[0m\u001b[1;32m     38\u001b[0m     \u001b[0mquickSort\u001b[0m\u001b[1;33m(\u001b[0m\u001b[0mrightList\u001b[0m\u001b[1;33m)\u001b[0m\u001b[1;33m\u001b[0m\u001b[0m\n\u001b[1;32m     39\u001b[0m \u001b[1;33m\u001b[0m\u001b[0m\n",
      "\u001b[0;32m<ipython-input-22-9a28befa1c27>\u001b[0m in \u001b[0;36mquickSort\u001b[0;34m(alist)\u001b[0m\n\u001b[1;32m     35\u001b[0m     \u001b[0mrightList\u001b[0m \u001b[1;33m=\u001b[0m \u001b[0malist\u001b[0m\u001b[1;33m[\u001b[0m\u001b[0mrightIdx\u001b[0m\u001b[1;33m+\u001b[0m\u001b[1;36m1\u001b[0m\u001b[1;33m:\u001b[0m\u001b[1;33m]\u001b[0m\u001b[1;33m\u001b[0m\u001b[0m\n\u001b[1;32m     36\u001b[0m \u001b[1;33m\u001b[0m\u001b[0m\n\u001b[0;32m---> 37\u001b[0;31m     \u001b[0mquickSort\u001b[0m\u001b[1;33m(\u001b[0m\u001b[0mleftList\u001b[0m\u001b[1;33m)\u001b[0m\u001b[1;33m\u001b[0m\u001b[0m\n\u001b[0m\u001b[1;32m     38\u001b[0m     \u001b[0mquickSort\u001b[0m\u001b[1;33m(\u001b[0m\u001b[0mrightList\u001b[0m\u001b[1;33m)\u001b[0m\u001b[1;33m\u001b[0m\u001b[0m\n\u001b[1;32m     39\u001b[0m \u001b[1;33m\u001b[0m\u001b[0m\n",
      "\u001b[0;32m<ipython-input-22-9a28befa1c27>\u001b[0m in \u001b[0;36mquickSort\u001b[0;34m(alist)\u001b[0m\n\u001b[1;32m      1\u001b[0m \u001b[1;32mdef\u001b[0m \u001b[0mquickSort\u001b[0m\u001b[1;33m(\u001b[0m\u001b[0malist\u001b[0m\u001b[1;33m)\u001b[0m\u001b[1;33m:\u001b[0m\u001b[1;33m\u001b[0m\u001b[0m\n\u001b[1;32m      2\u001b[0m \u001b[1;33m\u001b[0m\u001b[0m\n\u001b[0;32m----> 3\u001b[0;31m     \u001b[0mpivot\u001b[0m \u001b[1;33m=\u001b[0m \u001b[0malist\u001b[0m\u001b[1;33m[\u001b[0m\u001b[1;36m0\u001b[0m\u001b[1;33m]\u001b[0m\u001b[1;33m\u001b[0m\u001b[0m\n\u001b[0m\u001b[1;32m      4\u001b[0m     \u001b[0mleftIdx\u001b[0m \u001b[1;33m=\u001b[0m \u001b[1;36m1\u001b[0m\u001b[1;33m\u001b[0m\u001b[0m\n\u001b[1;32m      5\u001b[0m     \u001b[0mrightIdx\u001b[0m \u001b[1;33m=\u001b[0m \u001b[0mlen\u001b[0m\u001b[1;33m(\u001b[0m\u001b[0malist\u001b[0m\u001b[1;33m)\u001b[0m \u001b[1;33m-\u001b[0m \u001b[1;36m1\u001b[0m\u001b[1;33m\u001b[0m\u001b[0m\n",
      "\u001b[0;31mIndexError\u001b[0m: list index out of range"
     ]
    }
   ],
   "source": [
    "quickSort([54,26,93,17,77,31,44,55,20])"
   ]
  },
  {
   "cell_type": "code",
   "execution_count": 24,
   "metadata": {
    "collapsed": false
   },
   "outputs": [
    {
     "name": "stdout",
     "output_type": "stream",
     "text": [
      "[17, 20, 26, 31, 44, 54, 55, 77, 93]\n"
     ]
    }
   ],
   "source": [
    "def quickSort(alist):\n",
    "    quickSortHelper(alist,0,len(alist)-1)\n",
    "\n",
    "def quickSortHelper(alist,first,last):\n",
    "    if first < last:\n",
    "\n",
    "        splitpoint = partition(alist,first,last)\n",
    "\n",
    "        quickSortHelper(alist,first,splitpoint-1)\n",
    "        quickSortHelper(alist,splitpoint+1,last)\n",
    "\n",
    "\n",
    "def partition(alist,first,last):\n",
    "    pivotvalue = alist[first]\n",
    "\n",
    "    leftmark = first+1\n",
    "    rightmark = last\n",
    "\n",
    "    done = False\n",
    "    while not done:\n",
    "\n",
    "        while leftmark <= rightmark and alist[leftmark] <= pivotvalue:\n",
    "            leftmark = leftmark + 1\n",
    "\n",
    "        while alist[rightmark] >= pivotvalue and rightmark >= leftmark:\n",
    "            rightmark = rightmark -1\n",
    "\n",
    "        if rightmark < leftmark:\n",
    "            done = True\n",
    "        \n",
    "        else:\n",
    "            temp = alist[leftmark]\n",
    "            alist[leftmark] = alist[rightmark]\n",
    "            alist[rightmark] = temp\n",
    "\n",
    "    temp = alist[first]\n",
    "    alist[first] = alist[rightmark]\n",
    "    alist[rightmark] = temp\n",
    "\n",
    "\n",
    "    return rightmark\n",
    "\n",
    "alist = [54,26,93,17,77,31,44,55,20]\n",
    "quickSort(alist)\n",
    "print(alist)\n"
   ]
  },
  {
   "cell_type": "code",
   "execution_count": null,
   "metadata": {
    "collapsed": true
   },
   "outputs": [],
   "source": []
  }
 ],
 "metadata": {
  "anaconda-cloud": {},
  "kernelspec": {
   "display_name": "Python [default]",
   "language": "python",
   "name": "python3"
  },
  "language_info": {
   "codemirror_mode": {
    "name": "ipython",
    "version": 3
   },
   "file_extension": ".py",
   "mimetype": "text/x-python",
   "name": "python",
   "nbconvert_exporter": "python",
   "pygments_lexer": "ipython3",
   "version": "3.5.2"
  }
 },
 "nbformat": 4,
 "nbformat_minor": 1
}
